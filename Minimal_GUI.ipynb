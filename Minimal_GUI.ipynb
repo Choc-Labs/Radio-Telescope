{
 "cells": [
  {
   "cell_type": "code",
   "execution_count": 1,
   "metadata": {},
   "outputs": [],
   "source": []
  },
  {
   "cell_type": "code",
   "execution_count": 2,
   "metadata": {},
   "outputs": [],
   "source": [
    "LARGE_FONT = (\"Verdana\", 12)\n",
    "style.use(\"ggplot\")\n",
    "\n",
    "F = Figure(figsize=(5, 4), dpi=100)\n",
    "A = F.add_subplot(111)"
   ]
  },
  {
   "cell_type": "code",
   "execution_count": 3,
   "metadata": {},
   "outputs": [],
   "source": [
    "def animate(i):\n",
    "    pull_data = open(\"data.txt\", \"r\").read()\n",
    "    data_array = pull_data.split(\"\\n\")\n",
    "    xar = []\n",
    "    yar = []\n",
    "    for eachLine in data_array:\n",
    "        if len(eachLine) > 1:\n",
    "            x, y = eachLine.split(\",\")\n",
    "            xar.append(int(x))\n",
    "            yar.append(int(y))\n",
    "    a.clear()\n",
    "    a.plot(xar, yar)"
   ]
  },
  {
   "cell_type": "code",
   "execution_count": 4,
   "metadata": {},
   "outputs": [],
   "source": [
    "class _Gui(tk.Tk):\n",
    "\n",
    "    def __init__(self, *args, **kwargs):\n",
    "\n",
    "        tk.Tk.__init__(self, *args, **kwargs)\n",
    "        tk.Tk.wm_title(self, \"MRT\")\n",
    "\n",
    "        container = tk.Frame(self)\n",
    "        container.pack(side=\"top\", fill=\"both\", expand=True)\n",
    "        container.grid_rowconfigure(0, weight=1)\n",
    "        container.grid_columnconfigure(0, weight=1)\n",
    "\n",
    "        self.frames = {}\n",
    "        for F in StartPage:\n",
    "            frame = F(container, self)\n",
    "\n",
    "            self.frames[F] = frame\n",
    "\n",
    "            frame.grid(row=0, column=0, sticky=\"nsew\")\n",
    "\n",
    "        self.show_frame(StartPage)\n",
    "\n",
    "    def show_frame(self, cont):\n",
    "\n",
    "        frame = self.frames[cont]\n",
    "        frame.tkraise()"
   ]
  },
  {
   "cell_type": "code",
   "execution_count": 5,
   "metadata": {},
   "outputs": [],
   "source": [
    "class StartPage(tk.Frame):\n",
    "\n",
    "    def __init__(self, parent, controller):\n",
    "        ttk.Frame.__init__(self, parent)\n",
    "        label = ttk.Label(self, text=\"Start Page\", font=LARGE_FONT)\n",
    "        label.pack(pady=10, padx=10)\n",
    "\n",
    "        button1 = ttk.Button(self, text=\"Page One\", command=lambda: controller.show_frame(PageOne))\n",
    "        button1.pack()\n",
    "\n",
    "        button2 = ttk.Button(\n",
    "            self, text=\"Graph Page\", command=lambda: controller.show_frame(PageThree)\n",
    "        )\n",
    "        button2.pack()"
   ]
  },
  {
   "cell_type": "code",
   "execution_count": 6,
   "metadata": {},
   "outputs": [],
   "source": [
    "class PageOne(tk.Frame):\n",
    "\n",
    "    def __init__(self, parent, controller):\n",
    "        tk.Frame.__init__(self, parent)\n",
    "        label = tk.Label(self, text=\"Page One\", font=LARGE_FONT)\n",
    "        label.pack(pady=10, padx=10)\n",
    "\n",
    "        button1 = ttk.Button(\n",
    "            self, text=\"Back to Home\", command=lambda: controller.show_frame(StartPage)\n",
    "        )\n",
    "        button1.pack()\n",
    "\n",
    "        button2 = ttk.Button(\n",
    "            self, text=\"Graph Page\", command=lambda: controller.show_frame(PageThree)\n",
    "        )\n",
    "        button2.pack()"
   ]
  },
  {
   "cell_type": "code",
   "execution_count": 7,
   "metadata": {},
   "outputs": [],
   "source": [
    "class PageThree(tk.Frame):\n",
    "\n",
    "    def __init__(self, parent, controller):\n",
    "        tk.Frame.__init__(self, parent)\n",
    "        label = tk.Label(self, text=\"Graph Page\", font=LARGE_FONT)\n",
    "        label.pack(pady=10, padx=10)\n",
    "\n",
    "        button1 = ttk.Button(\n",
    "            self, text=\"Back to Home\", command=lambda: controller.show_frame(StartPage)\n",
    "        )\n",
    "        button1.pack()\n",
    "\n",
    "        canvas = FigureCanvasTkAgg(f, self)\n",
    "        canvas.draw()\n",
    "        canvas.get_tk_widget().pack(side=tk.BOTTOM, fill=tk.BOTH, expand=True)\n",
    "\n",
    "        toolbar = NavigationToolbar2Tk(canvas, self)\n",
    "        toolbar.update()\n",
    "        canvas._tkcanvas.pack(side=tk.TOP, fill=tk.BOTH, expand=True)"
   ]
  },
  {
   "cell_type": "code",
   "execution_count": 8,
   "metadata": {},
   "outputs": [],
   "source": [
    "APP = mrtGUI()\n",
    "ANI = animation.FuncAnimation(f, animate, interval=1000)\n",
    "APP.mainloop()"
   ]
  },
  {
   "cell_type": "code",
   "execution_count": null,
   "metadata": {},
   "outputs": [],
   "source": []
  }
 ],
 "metadata": {
  "kernelspec": {
   "display_name": "Python 3",
   "language": "python",
   "name": "python3"
  },
  "language_info": {
   "codemirror_mode": {
    "name": "ipython",
    "version": 3
   },
   "file_extension": ".py",
   "mimetype": "text/x-python",
   "name": "python",
   "nbconvert_exporter": "python",
   "pygments_lexer": "ipython3",
   "version": "3.7.4"
  }
 },
 "nbformat": 4,
 "nbformat_minor": 2
}
