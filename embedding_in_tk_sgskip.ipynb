{
  "cells": [
    {
      "cell_type": "code",
      "execution_count": null,
      "metadata": {
        "collapsed": false
      },
      "outputs": [],
      "source": [
        "%matplotlib inline"
      ]
    },
    {
      "cell_type": "markdown",
      "metadata": {},
      "source": [
        "\n",
        "# Embedding in Tk\n",
        "\n",
        "\n",
        "\n"
      ]
    },
    {
      "cell_type": "code",
      "execution_count": null,
      "metadata": {
        "collapsed": false
      },
      "outputs": [],
      "source": [
        "import tkinter\n",
        "\n",
        "import numpy as np\n",
        "# Implement the default Matplotlib key bindings.\n",
        "from matplotlib.backend_bases import key_press_handler\n",
        "from matplotlib.backends.backend_tkagg import FigureCanvasTkAgg, NavigationToolbar2Tk\n",
        "from matplotlib.figure import Figure\n",
        "\n",
        "ROOT = tkinter.Tk()\n",
        "ROOT.wm_title(\"Embedding in Tk\")\n",
        "\n",
        "FIG = Figure(figsize=(5, 4), dpi=100)\n",
        "T = np.arange(0, 3, 0.01)\n",
        "FIG.add_subplot(111).plot(T, 2 * np.sin(2 * np.pi * T))\n",
        "\n",
        "CANVAS = FigureCanvasTkAgg(FIG, master=ROOT)  # A tk.DrawingArea.\n",
        "CANVAS.draw()\n",
        "CANVAS.get_tk_widget().pack(side=tkinter.TOP, fill=tkinter.BOTH, expand=1)\n",
        "\n",
        "TOOLBAR = NavigationToolbar2Tk(CANVAS, ROOT)\n",
        "TOOLBAR.update()\n",
        "CANVAS.get_tk_widget().pack(side=tkinter.TOP, fill=tkinter.BOTH, expand=1)\n",
        "\n",
        "\n",
        "def on_key_press(event):\n",
        "    print(\"you pressed {}\".format(event.key))\n",
        "    key_press_handler(event, CANVAS, TOOLBAR)\n",
        "\n",
        "\n",
        "CANVAS.mpl_connect(\"key_press_event\", on_key_press)\n",
        "\n",
        "\n",
        "def _quit():\n",
        "    ROOT.quit()  # stops mainloop\n",
        "    ROOT.destroy()\n",
        "  # this is necessary on Windows to prevent\n",
        "                    # Fatal Python Error: PyEval_RestoreThread: NULL tstate\n",
        "\n",
        "\n",
        "BUTTON = tkinter.Button(master=ROOT, text=\"Quit\", command=_quit)\n",
        "BUTTON.pack(side=tkinter.BOTTOM)\n",
        "\n",
        "tkinter.mainloop()\n",
        "# If you put root.destroy() here, it will cause an error if the window is\n",
        "# closed with the window manager."
      ]
    }
  ],
  "metadata": {
    "kernelspec": {
      "display_name": "Python 3",
      "language": "python",
      "name": "python3"
    },
    "language_info": {
      "codemirror_mode": {
        "name": "ipython",
        "version": 3
      },
      "file_extension": ".py",
      "mimetype": "text/x-python",
      "name": "python",
      "nbconvert_exporter": "python",
      "pygments_lexer": "ipython3",
      "version": "3.6.8"
    }
  },
  "nbformat": 4,
  "nbformat_minor": 0
}
